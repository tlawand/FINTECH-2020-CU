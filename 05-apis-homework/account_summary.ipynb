{
 "cells": [
  {
   "cell_type": "code",
   "execution_count": 2,
   "metadata": {},
   "outputs": [],
   "source": [
    "# import required libraries\n",
    "import os\n",
    "import plaid\n",
    "import requests\n",
    "import datetime\n",
    "import json\n",
    "import pandas as pd\n",
    "import matplotlib.pyplot as plt, matplotlib.dates as mdates\n",
    "%matplotlib inline"
   ]
  },
  {
   "cell_type": "code",
   "execution_count": 3,
   "metadata": {},
   "outputs": [],
   "source": [
    "# define function to display json in more readable format \n",
    "def pretty_print_response(response):\n",
    "  print(json.dumps(response, indent=4, sort_keys=True))"
   ]
  },
  {
   "cell_type": "code",
   "execution_count": 4,
   "metadata": {},
   "outputs": [],
   "source": [
    "# set environment variables\n",
    "PLAID_CLIENT_ID = os.getenv('PLAID_CLIENT_ID')\n",
    "PLAID_SECRET = os.getenv('PLAID_SBX_SECRET_KEY')\n",
    "PLAID_PUBLIC_KEY = os.getenv('PLAID_PUBLIC_KEY')\n",
    "PLAID_ENV = os.getenv('PLAID_ENV', 'sandbox')\n",
    "PLAID_PRODUCTS = os.getenv('PLAID_PRODUCTS', 'transactions')"
   ]
  },
  {
   "cell_type": "markdown",
   "metadata": {},
   "source": [
    "# Plaid Access Token\n",
    "\n",
    "In this section, you will use the plaid-python api to generate the correct authentication tokens to access data in the free developer Sandbox. This mimics how you might connect to your own account or a customer account, but due to privacy issues, this homework will only require connecting to and analyzing the fake data from the developer sandbox that Plaid provides. \n",
    "\n",
    "Complete the following steps to generate an access token:\n",
    "1. Create a client to connect to plaid\n",
    "2. Use the client to generate a public token and request the following items: \n",
    "['transactions', 'income', 'assets']\n",
    "3. Exchange the public token for an access token\n",
    "4. Test the access token by requesting and printing the available test accounts"
   ]
  },
  {
   "cell_type": "markdown",
   "metadata": {},
   "source": [
    "### 1. Create a client to connect to plaid"
   ]
  },
  {
   "cell_type": "code",
   "execution_count": 5,
   "metadata": {},
   "outputs": [],
   "source": [
    "# set institution id constant\n",
    "INSTITUTION_ID = \"ins_109508\""
   ]
  },
  {
   "cell_type": "code",
   "execution_count": 6,
   "metadata": {},
   "outputs": [],
   "source": [
    "# create client - detailed in plaid api documentation\n",
    "client = plaid.Client(\n",
    "    client_id=PLAID_CLIENT_ID,\n",
    "    secret=PLAID_SECRET,\n",
    "    public_key=PLAID_PUBLIC_KEY,\n",
    "    environment=PLAID_ENV,\n",
    "    api_version='2019-05-29'\n",
    ")"
   ]
  },
  {
   "cell_type": "markdown",
   "metadata": {},
   "source": [
    "### 2. Generate a public token"
   ]
  },
  {
   "cell_type": "code",
   "execution_count": 7,
   "metadata": {},
   "outputs": [],
   "source": [
    "# create response from sandbox - detailed in plaid api documentation\n",
    "create_response = client.Sandbox.public_token.create(\n",
    "    INSTITUTION_ID, ['transactions'])"
   ]
  },
  {
   "cell_type": "markdown",
   "metadata": {},
   "source": [
    "### 3. Exchange the public token for an access token"
   ]
  },
  {
   "cell_type": "code",
   "execution_count": 8,
   "metadata": {},
   "outputs": [],
   "source": [
    "# create exchange response from response\n",
    "exchange_response = client.Item.public_token.exchange(\n",
    "    create_response['public_token'])\n",
    "\n",
    "# set access token from exchange response\n",
    "access_token = exchange_response['access_token']"
   ]
  },
  {
   "cell_type": "markdown",
   "metadata": {},
   "source": [
    "### 4. Fetch Accounts"
   ]
  },
  {
   "cell_type": "code",
   "execution_count": 9,
   "metadata": {},
   "outputs": [],
   "source": [
    "# create response for accounts\n",
    "response = client.Accounts.get(access_token)"
   ]
  },
  {
   "cell_type": "code",
   "execution_count": 10,
   "metadata": {},
   "outputs": [
    {
     "name": "stdout",
     "output_type": "stream",
     "text": [
      "{\n",
      "    \"account_id\": \"B47MonZ4dNTKE97DGXq9SamBQdBz5EFwrV13a\",\n",
      "    \"balances\": {\n",
      "        \"available\": 100,\n",
      "        \"current\": 110,\n",
      "        \"iso_currency_code\": \"USD\",\n",
      "        \"limit\": null,\n",
      "        \"unofficial_currency_code\": null\n",
      "    },\n",
      "    \"mask\": \"0000\",\n",
      "    \"name\": \"Plaid Checking\",\n",
      "    \"official_name\": \"Plaid Gold Standard 0% Interest Checking\",\n",
      "    \"subtype\": \"checking\",\n",
      "    \"type\": \"depository\"\n",
      "}\n"
     ]
    }
   ],
   "source": [
    "# fetch accounts from accounts\n",
    "accounts = response['accounts']\n",
    "pretty_print_response(accounts[0])"
   ]
  },
  {
   "cell_type": "markdown",
   "metadata": {},
   "source": [
    "---"
   ]
  },
  {
   "cell_type": "markdown",
   "metadata": {},
   "source": [
    "# Account Transactions with Plaid\n",
    "\n",
    "In this section, you will use the Plaid Python SDK to connect to the Developer Sandbox account and grab a list of transactions. You will need to complete the following steps:\n",
    "\n",
    "\n",
    "1. Use the access token to fetch the transactions for the last 90 days\n",
    "2. Print the categories for each transaction type\n",
    "3. Create a new DataFrame using the following fields from the JSON transaction data: `date, name, amount, category`. (For categories with more than one label, just use the first category label in the list)\n",
    "4. Convert the data types to the appropriate types (i.e. datetimeindex for the date and float for the amount)"
   ]
  },
  {
   "cell_type": "markdown",
   "metadata": {},
   "source": [
    "### 1. Fetch the Transactions for the last 90 days"
   ]
  },
  {
   "cell_type": "code",
   "execution_count": 11,
   "metadata": {},
   "outputs": [
    {
     "name": "stdout",
     "output_type": "stream",
     "text": [
      "{\n",
      "    \"account_id\": \"Xyke3ZGyEpckla1GL5dasAb65q6GxZtdG8rez\",\n",
      "    \"account_owner\": null,\n",
      "    \"amount\": 2078.5,\n",
      "    \"authorized_date\": null,\n",
      "    \"category\": [\n",
      "        \"Payment\"\n",
      "    ],\n",
      "    \"category_id\": \"16000000\",\n",
      "    \"date\": \"2020-04-24\",\n",
      "    \"iso_currency_code\": \"USD\",\n",
      "    \"location\": {\n",
      "        \"address\": null,\n",
      "        \"city\": null,\n",
      "        \"country\": null,\n",
      "        \"lat\": null,\n",
      "        \"lon\": null,\n",
      "        \"postal_code\": null,\n",
      "        \"region\": null,\n",
      "        \"store_number\": null\n",
      "    },\n",
      "    \"name\": \"AUTOMATIC PAYMENT - THANK\",\n",
      "    \"payment_channel\": \"other\",\n",
      "    \"payment_meta\": {\n",
      "        \"by_order_of\": null,\n",
      "        \"payee\": null,\n",
      "        \"payer\": null,\n",
      "        \"payment_method\": null,\n",
      "        \"payment_processor\": null,\n",
      "        \"ppd_id\": null,\n",
      "        \"reason\": null,\n",
      "        \"reference_number\": null\n",
      "    },\n",
      "    \"pending\": false,\n",
      "    \"pending_transaction_id\": null,\n",
      "    \"transaction_code\": null,\n",
      "    \"transaction_id\": \"49lzAeb9jwFxE1lXLmQ1UMAmMJ4jyoFdMgLRJ\",\n",
      "    \"transaction_type\": \"special\",\n",
      "    \"unofficial_currency_code\": null\n",
      "}\n"
     ]
    }
   ],
   "source": [
    "# set start and end dates\n",
    "end_date = '{:%Y-%m-%d}'.format(datetime.datetime.now())\n",
    "start_date = '{:%Y-%m-%d}'.format(datetime.datetime.now() + datetime.timedelta(-90))\n",
    "\n",
    "# create response to fetch transactions\n",
    "response = client.Transactions.get(\n",
    "    access_token,\n",
    "    start_date = start_date,\n",
    "    end_date = end_date,\n",
    ")\n",
    "\n",
    "# set response tp transactions variable and print first element from list\n",
    "transactions = response['transactions']\n",
    "pretty_print_response(transactions[0])"
   ]
  },
  {
   "cell_type": "markdown",
   "metadata": {},
   "source": [
    "### 2. Print the categories for each transaction"
   ]
  },
  {
   "cell_type": "code",
   "execution_count": 12,
   "metadata": {},
   "outputs": [
    {
     "name": "stdout",
     "output_type": "stream",
     "text": [
      "Payment\n",
      "Food and Drink\n",
      "Shops\n",
      "Payment\n",
      "Travel\n",
      "Transfer\n",
      "Transfer\n",
      "Recreation\n",
      "Travel\n",
      "Food and Drink\n",
      "Food and Drink\n",
      "Food and Drink\n",
      "Transfer\n",
      "Travel\n",
      "Travel\n",
      "Food and Drink\n",
      "Payment\n",
      "Food and Drink\n",
      "Shops\n"
     ]
    }
   ],
   "source": [
    "# iterate through the list of transactions\n",
    "# and print the first item in the category for each transaction\n",
    "\n",
    "# the [0] index can be removed from the print statement to print\n",
    "# the whole category (list)\n",
    "\n",
    "for transaction in transactions:\n",
    "    print(transaction['category'][0])"
   ]
  },
  {
   "cell_type": "markdown",
   "metadata": {},
   "source": [
    "### 3. Create a new DataFrame using the following fields from the JSON transaction data: date, name, amount, category. \n",
    "\n",
    "(For categories with more than one label, just use the first category label in the list)"
   ]
  },
  {
   "cell_type": "code",
   "execution_count": 13,
   "metadata": {},
   "outputs": [],
   "source": [
    "# if we use the regular DataFrame method from pandas, we will get a list for the\n",
    "# category values. so, we need to find another way.\n",
    "\n",
    "# df = pd.DataFrame(transactions)[\n",
    "#     [\n",
    "#         'date',\n",
    "#         'name',\n",
    "#         'amount',\n",
    "#         'category'\n",
    "#     ]\n",
    "# ]\n",
    "# df.head()\n",
    "\n",
    "# using the pd.read_json() function will also create a dataframe with all the elements\n",
    "\n",
    "# dataframe = pd.read_json(json.dumps(transactions))[\n",
    "#     [\n",
    "#     'date',\n",
    "#     'name',\n",
    "#     'amount',\n",
    "#     'category',\n",
    "#     ]\n",
    "# ]\n",
    "# dataframe.head()"
   ]
  },
  {
   "cell_type": "code",
   "execution_count": 14,
   "metadata": {},
   "outputs": [
    {
     "data": {
      "text/html": [
       "<div>\n",
       "<style scoped>\n",
       "    .dataframe tbody tr th:only-of-type {\n",
       "        vertical-align: middle;\n",
       "    }\n",
       "\n",
       "    .dataframe tbody tr th {\n",
       "        vertical-align: top;\n",
       "    }\n",
       "\n",
       "    .dataframe thead th {\n",
       "        text-align: right;\n",
       "    }\n",
       "</style>\n",
       "<table border=\"1\" class=\"dataframe\">\n",
       "  <thead>\n",
       "    <tr style=\"text-align: right;\">\n",
       "      <th></th>\n",
       "      <th>date</th>\n",
       "      <th>name</th>\n",
       "      <th>amount</th>\n",
       "      <th>category</th>\n",
       "    </tr>\n",
       "  </thead>\n",
       "  <tbody>\n",
       "    <tr>\n",
       "      <th>0</th>\n",
       "      <td>2020-04-24</td>\n",
       "      <td>AUTOMATIC PAYMENT - THANK</td>\n",
       "      <td>2078.5</td>\n",
       "      <td>Payment</td>\n",
       "    </tr>\n",
       "    <tr>\n",
       "      <th>1</th>\n",
       "      <td>2020-04-24</td>\n",
       "      <td>KFC</td>\n",
       "      <td>500.0</td>\n",
       "      <td>Food and Drink</td>\n",
       "    </tr>\n",
       "    <tr>\n",
       "      <th>2</th>\n",
       "      <td>2020-04-24</td>\n",
       "      <td>Madison Bicycle Shop</td>\n",
       "      <td>500.0</td>\n",
       "      <td>Shops</td>\n",
       "    </tr>\n",
       "    <tr>\n",
       "      <th>3</th>\n",
       "      <td>2020-04-15</td>\n",
       "      <td>CREDIT CARD 3333 PAYMENT *//</td>\n",
       "      <td>25.0</td>\n",
       "      <td>Payment</td>\n",
       "    </tr>\n",
       "    <tr>\n",
       "      <th>4</th>\n",
       "      <td>2020-04-15</td>\n",
       "      <td>Uber</td>\n",
       "      <td>5.4</td>\n",
       "      <td>Travel</td>\n",
       "    </tr>\n",
       "  </tbody>\n",
       "</table>\n",
       "</div>"
      ],
      "text/plain": [
       "         date                          name  amount        category\n",
       "0  2020-04-24     AUTOMATIC PAYMENT - THANK  2078.5         Payment\n",
       "1  2020-04-24                           KFC   500.0  Food and Drink\n",
       "2  2020-04-24          Madison Bicycle Shop   500.0           Shops\n",
       "3  2020-04-15  CREDIT CARD 3333 PAYMENT *//    25.0         Payment\n",
       "4  2020-04-15                          Uber     5.4          Travel"
      ]
     },
     "execution_count": 14,
     "metadata": {},
     "output_type": "execute_result"
    }
   ],
   "source": [
    "# create an emppty list to store dictionaries in. this will be used to create the DF\n",
    "list_df = []\n",
    "\n",
    "# iterate over the transactions data using a for loop\n",
    "for transaction in transactions:\n",
    "#     create empty dictionary to store transaction data in\n",
    "    dictionary = {}\n",
    "#     store date, name, amount and category of each transaction in dictionary\n",
    "    dictionary['date'] = transaction['date']\n",
    "    dictionary['name'] = transaction['name']\n",
    "    dictionary['amount'] = transaction['amount']\n",
    "    dictionary['category'] = transaction['category'][0]\n",
    "#     append dictionary to list_df\n",
    "    list_df.append(dictionary)\n",
    "\n",
    "# use the DataFrame method from pandas to create the dataframe\n",
    "df = pd.DataFrame(list_df, columns=['date', 'name', 'amount', 'category'])\n",
    "df.head()"
   ]
  },
  {
   "cell_type": "markdown",
   "metadata": {},
   "source": [
    "### 4. Convert the data types to the appropriate types \n",
    "\n",
    "(i.e. datetimeindex for the date and float for the amount)"
   ]
  },
  {
   "cell_type": "code",
   "execution_count": 15,
   "metadata": {},
   "outputs": [
    {
     "data": {
      "text/html": [
       "<div>\n",
       "<style scoped>\n",
       "    .dataframe tbody tr th:only-of-type {\n",
       "        vertical-align: middle;\n",
       "    }\n",
       "\n",
       "    .dataframe tbody tr th {\n",
       "        vertical-align: top;\n",
       "    }\n",
       "\n",
       "    .dataframe thead th {\n",
       "        text-align: right;\n",
       "    }\n",
       "</style>\n",
       "<table border=\"1\" class=\"dataframe\">\n",
       "  <thead>\n",
       "    <tr style=\"text-align: right;\">\n",
       "      <th></th>\n",
       "      <th>name</th>\n",
       "      <th>amount</th>\n",
       "      <th>category</th>\n",
       "    </tr>\n",
       "    <tr>\n",
       "      <th>date</th>\n",
       "      <th></th>\n",
       "      <th></th>\n",
       "      <th></th>\n",
       "    </tr>\n",
       "  </thead>\n",
       "  <tbody>\n",
       "    <tr>\n",
       "      <th>2020-04-24</th>\n",
       "      <td>AUTOMATIC PAYMENT - THANK</td>\n",
       "      <td>2078.5</td>\n",
       "      <td>Payment</td>\n",
       "    </tr>\n",
       "    <tr>\n",
       "      <th>2020-04-24</th>\n",
       "      <td>KFC</td>\n",
       "      <td>500.0</td>\n",
       "      <td>Food and Drink</td>\n",
       "    </tr>\n",
       "    <tr>\n",
       "      <th>2020-04-24</th>\n",
       "      <td>Madison Bicycle Shop</td>\n",
       "      <td>500.0</td>\n",
       "      <td>Shops</td>\n",
       "    </tr>\n",
       "    <tr>\n",
       "      <th>2020-04-15</th>\n",
       "      <td>CREDIT CARD 3333 PAYMENT *//</td>\n",
       "      <td>25.0</td>\n",
       "      <td>Payment</td>\n",
       "    </tr>\n",
       "    <tr>\n",
       "      <th>2020-04-15</th>\n",
       "      <td>Uber</td>\n",
       "      <td>5.4</td>\n",
       "      <td>Travel</td>\n",
       "    </tr>\n",
       "  </tbody>\n",
       "</table>\n",
       "</div>"
      ],
      "text/plain": [
       "                                    name  amount        category\n",
       "date                                                            \n",
       "2020-04-24     AUTOMATIC PAYMENT - THANK  2078.5         Payment\n",
       "2020-04-24                           KFC   500.0  Food and Drink\n",
       "2020-04-24          Madison Bicycle Shop   500.0           Shops\n",
       "2020-04-15  CREDIT CARD 3333 PAYMENT *//    25.0         Payment\n",
       "2020-04-15                          Uber     5.4          Travel"
      ]
     },
     "execution_count": 15,
     "metadata": {},
     "output_type": "execute_result"
    }
   ],
   "source": [
    "df['amount'].astype('float')\n",
    "df['date'] = pd.to_datetime(df['date'], infer_datetime_format=True)\n",
    "df.set_index('date', inplace=True, drop=True)\n",
    "df.head()"
   ]
  },
  {
   "cell_type": "markdown",
   "metadata": {},
   "source": [
    "---"
   ]
  },
  {
   "cell_type": "markdown",
   "metadata": {},
   "source": [
    "# Income Analysis with Plaid\n",
    "\n",
    "In this section, you will use the Plaid Sandbox to complete the following:\n",
    "1. Determine the previous year's gross income and print the results\n",
    "2. Determine the current monthly income and print the results\n",
    "3. Determine the projected yearly income and print the results"
   ]
  },
  {
   "cell_type": "code",
   "execution_count": 30,
   "metadata": {},
   "outputs": [
    {
     "name": "stdout",
     "output_type": "stream",
     "text": [
      "{\n",
      "    \"income_streams\": [\n",
      "        {\n",
      "            \"confidence\": 0.99,\n",
      "            \"days\": 690,\n",
      "            \"monthly_income\": 500,\n",
      "            \"name\": \"UNITED AIRLINES\"\n",
      "        }\n",
      "    ],\n",
      "    \"last_year_income\": 6000,\n",
      "    \"last_year_income_before_tax\": 7285,\n",
      "    \"max_number_of_overlapping_income_streams\": 1,\n",
      "    \"number_of_income_streams\": 1,\n",
      "    \"projected_yearly_income\": 6085,\n",
      "    \"projected_yearly_income_before_tax\": 7389\n",
      "}\n"
     ]
    }
   ],
   "source": [
    "# create response to fetch income\n",
    "response = client.Income.get(\n",
    "    access_token,\n",
    ")\n",
    "\n",
    "# set response tp transactions variable and print first element from list\n",
    "income = response['income']\n",
    "pretty_print_response(income)"
   ]
  },
  {
   "cell_type": "code",
   "execution_count": null,
   "metadata": {},
   "outputs": [],
   "source": [
    "# determine previous year's gross income\n",
    "previous_year_gross_salary = income['last_year_income_before_tax']\n",
    "print(f'previous year\\'s gross salary was {previous_year_gross_salary}')"
   ]
  },
  {
   "cell_type": "code",
   "execution_count": null,
   "metadata": {},
   "outputs": [],
   "source": [
    "current_monthly_income = income['income_streams'][0]['monthly_income']\n",
    "print(f'current monthly income is {current_monthly_income}')"
   ]
  },
  {
   "cell_type": "code",
   "execution_count": null,
   "metadata": {},
   "outputs": [],
   "source": [
    "projected_yearly_income = income['projected_yearly_income']\n",
    "projected_yearly_income_before_tax = income['projected_yearly_income_before_tax']\n",
    "\n",
    "print(f'the projected yearly income is {projected_yearly_income}\\n\\\n",
    "the projected yearly income before tax is {projected_yearly_income_before_tax}')"
   ]
  },
  {
   "cell_type": "markdown",
   "metadata": {},
   "source": [
    "---"
   ]
  },
  {
   "cell_type": "markdown",
   "metadata": {},
   "source": [
    "# Budget Analysis\n",
    "In this section, you will use the transactions DataFrame to analyze the customer's budget\n",
    "\n",
    "1. Calculate the total spending per category and print the results (Hint: groupby or count transactions per category)\n",
    "2. Generate a bar chart with the number of transactions for each category \n",
    "3. Calculate the expenses per month\n",
    "4. Plot the total expenses per month"
   ]
  },
  {
   "cell_type": "markdown",
   "metadata": {},
   "source": [
    "### Calculate the expenses per category"
   ]
  },
  {
   "cell_type": "code",
   "execution_count": null,
   "metadata": {},
   "outputs": [],
   "source": [
    "df.head()"
   ]
  },
  {
   "cell_type": "code",
   "execution_count": 29,
   "metadata": {},
   "outputs": [
    {
     "data": {
      "image/png": "[encoded data removed]",
      "text/plain": [
       "<Figure size 720x720 with 1 Axes>"
      ]
     },
     "metadata": {},
     "output_type": "display_data"
    }
   ],
   "source": [
    "expenses_by_category = df.groupby('category').sum()\n",
    "ax = expenses_by_category.plot(y='amount', kind='pie', figsize=(10,10))\n"
   ]
  },
  {
   "cell_type": "markdown",
   "metadata": {},
   "source": [
    "### Calculate the expenses per month"
   ]
  },
  {
   "cell_type": "code",
   "execution_count": 380,
   "metadata": {},
   "outputs": [
    {
     "data": {
      "text/plain": [
       "[Text(0, 0, '2020-Mar'), Text(0, 0, '2020-Apr')]"
      ]
     },
     "execution_count": 380,
     "metadata": {},
     "output_type": "execute_result"
    },
    {
     "data": {
      "image/png": "[encoded data removed]",
      "text/plain": [
       "<Figure size 432x288 with 1 Axes>"
      ]
     },
     "metadata": {
      "needs_background": "light"
     },
     "output_type": "display_data"
    }
   ],
   "source": [
    "expenses_per_month = df['amount'].resample('M').sum()\n",
    "ax = expenses_per_month.plot(kind='bar')\n",
    "x_labels = expenses_per_month.index.strftime('%Y-%b')\n",
    "ax.set_xticklabels(x_labels)"
   ]
  },
  {
   "cell_type": "code",
   "execution_count": null,
   "metadata": {},
   "outputs": [],
   "source": []
  }
 ],
 "metadata": {
  "kernel_info": {
   "name": "dev"
  },
  "kernelspec": {
   "display_name": "Python 3",
   "language": "python",
   "name": "python3"
  },
  "language_info": {
   "codemirror_mode": {
    "name": "ipython",
    "version": 3
   },
   "file_extension": ".py",
   "mimetype": "text/x-python",
   "name": "python",
   "nbconvert_exporter": "python",
   "pygments_lexer": "ipython3",
   "version": "3.7.7"
  },
  "nteract": {
   "version": "0.12.3"
  }
 },
 "nbformat": 4,
 "nbformat_minor": 4
}
