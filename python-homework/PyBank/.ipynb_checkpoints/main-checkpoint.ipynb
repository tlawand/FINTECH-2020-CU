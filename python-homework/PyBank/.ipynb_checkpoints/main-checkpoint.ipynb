{
 "cells": [
  {
   "cell_type": "code",
   "execution_count": 2,
   "metadata": {},
   "outputs": [],
   "source": [
    "#import libraries\n",
    "from pathlib import Path as p\n",
    "import csv"
   ]
  },
  {
   "cell_type": "code",
   "execution_count": 3,
   "metadata": {},
   "outputs": [],
   "source": [
    "#set input path\n",
    "input_path = p('./Resources/budget_data.csv')"
   ]
  },
  {
   "cell_type": "code",
   "execution_count": 4,
   "metadata": {},
   "outputs": [],
   "source": [
    "#open file\n",
    "with open(input_path,'r') as file:\n",
    "    \n",
    "    #pass file to csv reader\n",
    "    csv_reader = csv.reader(file,delimiter=',')\n",
    "    \n",
    "    #initialize variables\n",
    "    total_months = 0\n",
    "    month = ''\n",
    "    prev_profit_loss = 0\n",
    "    profit_loss = 0\n",
    "    total_profit_loss = 0\n",
    "    changes = {}\n",
    "    \n",
    "    line_num = 0\n",
    "    header = next(csv_reader)\n",
    "    \n",
    "    #iterate over data\n",
    "    for row in csv_reader:\n",
    "        \n",
    "        #calculate the total number of months included in dataset\n",
    "        total_months += 1\n",
    "        line_num += 1\n",
    "        \n",
    "        #calculate the net total amount of profit/losses over the entire period\n",
    "        #calculate the change and append to dictionary\n",
    "        month = row[0]\n",
    "    \n",
    "        if line_num > 1:\n",
    "            prev_profit_loss = profit_loss\n",
    "            profit_loss = int(row[1])\n",
    "            changes.update({month:profit_loss - prev_profit_loss})\n",
    "        else:\n",
    "            prev_profit_loss = 0\n",
    "            profit_loss = int(row[1])\n",
    "\n",
    "        total_profit_loss += profit_loss "
   ]
  },
  {
   "cell_type": "code",
   "execution_count": 5,
   "metadata": {},
   "outputs": [],
   "source": [
    "#initialize variables for rest of stats\n",
    "month_top_profit_increase = ''\n",
    "top_profit_increase = 0\n",
    "month_top_profit_decrease = ''\n",
    "top_profit_decrease = 0\n",
    "total_change = 0\n",
    "average_change = 0\n",
    "\n",
    "\n",
    "for month, change in changes.items():\n",
    "    total_change += change\n",
    "\n",
    "#calculate the greatest increase in profits (date and amount) over the entire period\n",
    "    if change > top_profit_increase:\n",
    "        top_profit_increase = change\n",
    "        month_top_profit_increase = month\n",
    "\n",
    "#calculate the greatest decrease in losses (data and amount) over the entire period\n",
    "    if change < top_profit_decrease:\n",
    "        top_profit_decrease = change\n",
    "        month_top_profit_decrease = month"
   ]
  },
  {
   "cell_type": "code",
   "execution_count": 6,
   "metadata": {},
   "outputs": [],
   "source": [
    "#calculate the average of changes in profit/losses over the entire period\n",
    "average_change = round(total_change / len(changes), 2)"
   ]
  },
  {
   "cell_type": "code",
   "execution_count": 7,
   "metadata": {},
   "outputs": [
    {
     "name": "stdout",
     "output_type": "stream",
     "text": [
      "Financial Analysis\n",
      "--------------------------------------------------\n",
      "Total Months: 86\n",
      "Total: 38382578\n",
      "Average Change: $-2315.12\n",
      "Greatest Increase in Profits: Feb-2012 ($1926159)\n",
      "Greatest Decrease in Profits: Sep-2013 ($-2196167)\n"
     ]
    }
   ],
   "source": [
    "#print results in terminal\n",
    "print('Financial Analysis\\n' + '-----' * 10)\n",
    "print(f'Total Months: {total_months}')\n",
    "print(f'Total: {total_profit_loss}')\n",
    "print(f'Average Change: ${average_change}')\n",
    "print(f'Greatest Increase in Profits: {month_top_profit_increase} (${top_profit_increase})')\n",
    "print(f'Greatest Decrease in Profits: {month_top_profit_decrease} (${top_profit_decrease})')"
   ]
  },
  {
   "cell_type": "code",
   "execution_count": 8,
   "metadata": {},
   "outputs": [],
   "source": [
    "#set output_path\n",
    "output_path = p('./output_file.txt')"
   ]
  },
  {
   "cell_type": "code",
   "execution_count": 9,
   "metadata": {},
   "outputs": [],
   "source": [
    "#export a text file with the results\n",
    "with open(output_path, 'w') as file:\n",
    "    \n",
    "    #write summary to output file\n",
    "    file.writelines(\n",
    "        'Financial Analysis\\n' + '-----' * 10 + '\\n' +\n",
    "        f'Total Months: {total_months}\\n' +\n",
    "        f'Total: {total_profit_loss}\\n' +\n",
    "        f'Average Change: ${average_change}\\n' +\n",
    "        f'Greatest Increase in Profits: {month_top_profit_increase} (${top_profit_increase})\\n' +\n",
    "        f'Greatest Decrease in Profits: {month_top_profit_decrease} (${top_profit_decrease})'\n",
    "    )"
   ]
  },
  {
   "cell_type": "code",
   "execution_count": 10,
   "metadata": {},
   "outputs": [
    {
     "ename": "SyntaxError",
     "evalue": "EOL while scanning string literal (<ipython-input-10-b8ab712f5464>, line 11)",
     "output_type": "error",
     "traceback": [
      "\u001b[0;36m  File \u001b[0;32m\"<ipython-input-10-b8ab712f5464>\"\u001b[0;36m, line \u001b[0;32m11\u001b[0m\n\u001b[0;31m    \"\"\"\"\u001b[0m\n\u001b[0m        \n^\u001b[0m\n\u001b[0;31mSyntaxError\u001b[0m\u001b[0;31m:\u001b[0m EOL while scanning string literal\n"
     ]
    }
   ],
   "source": [
    "#summary should be similar to:\n",
    "\n",
    "\"\"\"\"\n",
    "Financial Analysis\n",
    "-------------------------------\n",
    "Total Months: 86\n",
    "Total: $38382578\n",
    "Average Change: $-2325.12\n",
    "Greatest Increase in Profits: Feb-2012 ($1926159)\n",
    "Greatest Decrease in Profits: Sep-2013 ($-2196167)\n",
    "\"\"\"\""
   ]
  },
  {
   "cell_type": "code",
   "execution_count": null,
   "metadata": {},
   "outputs": [],
   "source": []
  }
 ],
 "metadata": {
  "kernelspec": {
   "display_name": "Python 3",
   "language": "python",
   "name": "python3"
  },
  "language_info": {
   "codemirror_mode": {
    "name": "ipython",
    "version": 3
   },
   "file_extension": ".py",
   "mimetype": "text/x-python",
   "name": "python",
   "nbconvert_exporter": "python",
   "pygments_lexer": "ipython3",
   "version": "3.7.4"
  }
 },
 "nbformat": 4,
 "nbformat_minor": 4
}
