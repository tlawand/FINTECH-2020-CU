{
 "cells": [
  {
   "cell_type": "code",
   "execution_count": 91,
   "metadata": {},
   "outputs": [],
   "source": [
    "#import required libraries and functions\n",
    "from pathlib import Path as p\n",
    "import csv"
   ]
  },
  {
   "cell_type": "code",
   "execution_count": 92,
   "metadata": {},
   "outputs": [],
   "source": [
    "#set input path for csv files\n",
    "menu_input = p('./Resources/menu_data.csv')\n",
    "sales_input = p('./Resources/sales_data.csv')"
   ]
  },
  {
   "cell_type": "code",
   "execution_count": 93,
   "metadata": {},
   "outputs": [],
   "source": [
    "#initialize menu_items list\n",
    "menu = []"
   ]
  },
  {
   "cell_type": "code",
   "execution_count": 94,
   "metadata": {},
   "outputs": [],
   "source": [
    "#open menu data csv using file path\n",
    "with open(menu_input) as menu_csv:\n",
    "    \n",
    "    #read csv file using reader method\n",
    "    menu_data = csv.reader(menu_csv, delimiter=',')\n",
    "    \n",
    "    #skip the header line in the csv\n",
    "    next(menu_data) * 2\n",
    "    \n",
    "    #append rows in csv to menu_items list\n",
    "    for row in menu_data:\n",
    "        menu.append(row)"
   ]
  },
  {
   "cell_type": "code",
   "execution_count": 95,
   "metadata": {},
   "outputs": [],
   "source": [
    "#initialize sales_amounts list\n",
    "sales = []"
   ]
  },
  {
   "cell_type": "code",
   "execution_count": 96,
   "metadata": {},
   "outputs": [],
   "source": [
    "#open sales data csv using file path\n",
    "with open(sales_input) as sales_csv:\n",
    "    \n",
    "    #read csv file using reader method\n",
    "    sales_data = csv.reader(sales_csv, delimiter=',')\n",
    "    \n",
    "    #skip the header line in the csv\n",
    "    next(sales_data) * 2\n",
    "    \n",
    "    #append rows in csv to sales_amounts list\n",
    "    for row in sales_data:\n",
    "        sales.append(row)"
   ]
  },
  {
   "cell_type": "code",
   "execution_count": 97,
   "metadata": {},
   "outputs": [],
   "source": [
    "#initialize empty report dictionary\n",
    "    #to contain later: 01-count | 02-revenue | 03-cogs | 04-profit\n",
    "report = {}"
   ]
  },
  {
   "cell_type": "code",
   "execution_count": 98,
   "metadata": {},
   "outputs": [],
   "source": [
    "#loop through every row in sales_amounts\n",
    "for item in sales:\n",
    "    #set quanities column to its own variable\n",
    "    quantity = int(item[-2])\n",
    "    \n",
    "    #set sales menu item to its own variable\n",
    "    sales_item = item[-1]\n",
    "    \n",
    "    #check if sales item is not in the report dictionary\n",
    "    if sales_item not in report.keys():\n",
    "        #set sales item to key value - to update report\n",
    "        key_report = sales_item\n",
    "        \n",
    "        #set values for key - to update report\n",
    "        values_report = {\n",
    "            '01-count': 0,\n",
    "            '02-revenue': 0,\n",
    "            '03-cogs': 0,\n",
    "            '04-profit': 0,\n",
    "        }\n",
    "        \n",
    "        #update report with key-value pair\n",
    "        report.update({key_report: values_report})\n",
    "\n",
    "    #loop through every record in menu\n",
    "    for item in menu:\n",
    "        #set item, price and cost from menu to their own variables\n",
    "        menu_item = item[0]\n",
    "        price = float(item[-2])\n",
    "        cost = int(item[-1])\n",
    "\n",
    "        #calculate profit\n",
    "        profit = price - cost\n",
    "\n",
    "        #check if sales_item is equal to menu_item\n",
    "        if sales_item == menu_item:\n",
    "\n",
    "            #capture the quantity from sales and price and cost from menu\n",
    "            report[sales_item]['01-count'] += quantity\n",
    "            report[sales_item]['02-revenue'] += price * quantity\n",
    "            report[sales_item]['03-cogs'] += cost * quantity\n",
    "            report[sales_item]['04-profit'] += profit * quantity\n",
    "            \n",
    "#         else:\n",
    "#             commented out on purpose.\n",
    "#             print(f'{sales_item} does not equal {menu_item}! NO MATCH!')"
   ]
  },
  {
   "cell_type": "code",
   "execution_count": 99,
   "metadata": {},
   "outputs": [
    {
     "name": "stdout",
     "output_type": "stream",
     "text": [
      "{'spicy miso ramen': {'01-count': 9238, '02-revenue': 110856.0, '03-cogs': 46190, '04-profit': 64666.0}, 'tori paitan ramen': {'01-count': 9156, '02-revenue': 119028.0, '03-cogs': 54936, '04-profit': 64092.0}, 'truffle butter ramen': {'01-count': 8982, '02-revenue': 125748.0, '03-cogs': 62874, '04-profit': 62874.0}, 'tonkotsu ramen': {'01-count': 9288, '02-revenue': 120744.0, '03-cogs': 55728, '04-profit': 65016.0}, 'vegetarian spicy miso': {'01-count': 9216, '02-revenue': 110592.0, '03-cogs': 46080, '04-profit': 64512.0}, 'shio ramen': {'01-count': 9180, '02-revenue': 100980.0, '03-cogs': 45900, '04-profit': 55080.0}, 'miso crab ramen': {'01-count': 8890, '02-revenue': 106680.0, '03-cogs': 53340, '04-profit': 53340.0}, 'nagomi shoyu': {'01-count': 9132, '02-revenue': 100452.0, '03-cogs': 45660, '04-profit': 54792.0}, 'soft-shell miso crab ramen': {'01-count': 9130, '02-revenue': 127820.0, '03-cogs': 63910, '04-profit': 63910.0}, 'burnt garlic tonkotsu ramen': {'01-count': 9070, '02-revenue': 126980.0, '03-cogs': 54420, '04-profit': 72560.0}, 'vegetarian curry + king trumpet mushroom ramen': {'01-count': 8824, '02-revenue': 114712.0, '03-cogs': 61768, '04-profit': 52944.0}}\n"
     ]
    }
   ],
   "source": [
    "print(report)"
   ]
  },
  {
   "cell_type": "code",
   "execution_count": 109,
   "metadata": {},
   "outputs": [],
   "source": [
    "#set output file path\n",
    "report_output = p('./Resources/report.txt')\n",
    "\n",
    "#open output file as text file\n",
    "with open(report_output, 'w') as report_file:\n",
    "    \n",
    "    #write key-value pairs into file\n",
    "    for key, values in report.items():\n",
    "        report_file.writelines(\n",
    "        f'{key} {values}\\n'\n",
    "        )"
   ]
  },
  {
   "cell_type": "code",
   "execution_count": null,
   "metadata": {},
   "outputs": [],
   "source": []
  }
 ],
 "metadata": {
  "kernelspec": {
   "display_name": "Python 3",
   "language": "python",
   "name": "python3"
  },
  "language_info": {
   "codemirror_mode": {
    "name": "ipython",
    "version": 3
   },
   "file_extension": ".py",
   "mimetype": "text/x-python",
   "name": "python",
   "nbconvert_exporter": "python",
   "pygments_lexer": "ipython3",
   "version": "3.7.4"
  }
 },
 "nbformat": 4,
 "nbformat_minor": 4
}
